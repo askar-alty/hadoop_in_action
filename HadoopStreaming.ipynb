{
 "cells": [
  {
   "cell_type": "markdown",
   "metadata": {},
   "source": [
    "## Hadoop Streaming"
   ]
  },
  {
   "cell_type": "markdown",
   "metadata": {},
   "source": [
    "### Подготовка hadoop streaming "
   ]
  },
  {
   "cell_type": "markdown",
   "metadata": {},
   "source": [
    "<h5>\n",
    "Домашняя директория Hadoop:\n",
    "</h5>\n",
    "\n",
    "- $ export HADOOP_HOME=/usr/local/Cellar/hadoop/2.8.0\n",
    "\n",
    "<h5>\n",
    "Найдем  jar-файл hadoop streaming:\n",
    "</h5>\n",
    "\n",
    "- $ find /usr/local/Cellar/hadoop \\-name hadoop-*streaming*.jar -print\n",
    "\n",
    "<h5> \n",
    "jar-файл hadoop streaming:\n",
    "</h5>\n",
    "\n",
    "- $HADOOP_HOME/libexec/share/hadoop/tools/lib/hadoop-streaming-2.8.0.jar\n",
    "- /usr/local/Cellar/hadoop/2.8.0/libexec/share/hadoop/tools/lib/hadoop-streaming-2.8.0.jar"
   ]
  },
  {
   "cell_type": "markdown",
   "metadata": {},
   "source": [
    "#### Параметры запуска hadoop streaming: \n",
    "\n",
    "  - -D .... - любые параметры MapReduce-задачи;\n",
    "  - -input /in_file - входной файл, содержимое которого необходимо проанализировать (может храниться в hdfs или local);\n",
    "  - -output /out_file - выходной файл, куда записывается результат (может храниться в hdfs или local);\n",
    "  - -mapper - команда(python)/класс(java), который принят за маппера;\n",
    "  - -reducer - команда(python)/класс(java), который будет принят за редьюсер;\n",
    "  - -file/fiels - фойл/файлы, которые будут загруженны на каждую датаноду (DataNode).\n",
    "  - и т.д."
   ]
  },
  {
   "cell_type": "code",
   "execution_count": 68,
   "metadata": {
    "collapsed": true
   },
   "outputs": [],
   "source": [
    "import numpy as np\n",
    "import pandas as pd\n",
    "import matplotlib.pyplot as plt"
   ]
  },
  {
   "cell_type": "code",
   "execution_count": 39,
   "metadata": {
    "collapsed": true
   },
   "outputs": [],
   "source": [
    "import findspark\n",
    "findspark.init()\n",
    "import pyspark\n",
    "sc = pyspark.SparkContext(appName=\"Hadoop Streaming\")\n",
    "hdfs = \"hdfs://localhost:9000/\""
   ]
  },
  {
   "cell_type": "markdown",
   "metadata": {},
   "source": [
    "#### Скрипт для запуска простой map reduce задачи, с использованием shell-команд unix\n",
    "\n",
    "- /user/askar/cite75_99.txt - входной файл из hdfs\n",
    "- /user/askar/output - выходная директория в hdfs\n",
    "- cut -f 2 -d  - извлекает ханные из второго столбца файла\n",
    "- uniq  - удаляет дубликаты из отсортированных данных"
   ]
  },
  {
   "cell_type": "raw",
   "metadata": {},
   "source": [
    "hadoop jar $HADOOP_HOME/libexec/share/hadoop/tools/lib/hadoop-streaming-2.8.0.jar \\ \n",
    "    -input /user/askar/cite75_99.txt \\\n",
    "    -output /user/askar/output \\\n",
    "    -mapper 'cut -f 2 -d' \\\n",
    "    -reducer 'uniq'"
   ]
  },
  {
   "cell_type": "raw",
   "metadata": {},
   "source": [
    "hadoop jar $HADOOP_HOME/libexec/share/hadoop/tools/lib/hadoop-streaming-2.8.0.jar \\\n",
    "  -input /user/askar/file1  \\\n",
    "  -output /user/askar/output \\\n",
    "  -mapper /bin/cat \\\n",
    "  -reducer /usr/bin/wc"
   ]
  },
  {
   "cell_type": "markdown",
   "metadata": {},
   "source": [
    "#### Пример № 1.  Запуска MapReduce задачи на python. Вывод 10% всей записи."
   ]
  },
  {
   "cell_type": "code",
   "execution_count": 30,
   "metadata": {
    "collapsed": true
   },
   "outputs": [],
   "source": [
    "# random_sample.py\n",
    "\n",
    "import sys, random\n",
    "for line in sys.stdin:\n",
    "    if (random.randint(1, 100) <= int(sys.argv[1])):\n",
    "        print(line.strip())"
   ]
  },
  {
   "cell_type": "markdown",
   "metadata": {},
   "source": [
    "#### Команда запуска MapReduce задачи с командной строки с аргументами. \n",
    "\n",
    "    - mapreduce.job.reduces=1 - используем 1 редьюсер\n",
    "    - /user/askar/cite75_99.txt -  из hdfs\n",
    "    - /user/askar/output - в hdfs\n",
    "    - \"python3 /Users/shabykov/Hadoop/random_sample.py 10\" - команда на локальной машине\n",
    "    - /Users/shabykov/Hadoop/random_sample.py - путь/файл на локальной машине"
   ]
  },
  {
   "cell_type": "raw",
   "metadata": {},
   "source": [
    "hadoop jar $HADOOP_HOME/libexec/share/hadoop/tools/lib/hadoop-streaming-2.8.0.jar \\ \n",
    "    -D mapreduce.job.reduces=1 \\ \n",
    "    -input /user/askar/cite75_99.txt \\\n",
    "    -output /user/askar/output \\ \n",
    "    -mapper \"python3 /Users/shabykov/Hadoop/random_sample.py 10\" \\\n",
    "    -file /Users/shabykov/Hadoop/random_sample.py"
   ]
  },
  {
   "cell_type": "markdown",
   "metadata": {},
   "source": [
    "#### Пример № 2. Скрипт для вычисления максимального значения атрибута."
   ]
  },
  {
   "cell_type": "code",
   "execution_count": null,
   "metadata": {
    "collapsed": true
   },
   "outputs": [],
   "source": [
    "# attribute_max.py \n",
    "import sys\n",
    "\n",
    "index = int(sys.argv[1]) if len(sys.argv) > 1 else 8\n",
    "maximum = 0\n",
    "for line in sys.stdin:\n",
    "    fields = line.strip().split(\",\")\n",
    "    if fields[index].isdigit():\n",
    "        val = int(fields[index])\n",
    "        if val > maximum:\n",
    "            maximum = val\n",
    "else:\n",
    "    print(maximum)"
   ]
  },
  {
   "cell_type": "raw",
   "metadata": {},
   "source": [
    "hadoop jar $HADOOP_HOME/libexec/share/hadoop/tools/lib/hadoop-streaming-2.8.0.jar \\ \n",
    "    -D mapreduce.job.reduces=1 \\ \n",
    "    -input /user/askar/apat63_99.txt \\\n",
    "    -output /user/askar/output \\ \n",
    "    -mapper \"python3 /Users/shabykov/Hadoop/attribute_max.py 8\" \\\n",
    "    -file /Users/shabykov/Hadoop/attribute_max.py"
   ]
  },
  {
   "cell_type": "code",
   "execution_count": 40,
   "metadata": {
    "collapsed": true
   },
   "outputs": [],
   "source": [
    "out_file = sc.textFile(hdfs + \"/user/askar/output\")"
   ]
  },
  {
   "cell_type": "code",
   "execution_count": 41,
   "metadata": {
    "collapsed": false
   },
   "outputs": [
    {
     "data": {
      "text/plain": [
       "['706\\t', '868\\t']"
      ]
     },
     "execution_count": 41,
     "metadata": {},
     "output_type": "execute_result"
    }
   ],
   "source": [
    "out_file.collect()"
   ]
  },
  {
   "cell_type": "markdown",
   "metadata": {},
   "source": [
    "Ны выходе 2 мапперов получили два максимальных числа 706 и 868. Давайте подключим редюсер, чтобы получить максимальное число из чисел полученных на выходе мапперов. \n",
    "Редюсер тот же маппер с аргусентом 0. "
   ]
  },
  {
   "cell_type": "markdown",
   "metadata": {},
   "source": [
    "hadoop jar $HADOOP_HOME/libexec/share/hadoop/tools/lib/hadoop-streaming-2.8.0.jar \\ \n",
    "    -D mapreduce.job.reduces=1 \\ \n",
    "    -input /user/askar/apat63_99.txt \\\n",
    "    -output /user/askar/output \\ \n",
    "    -mapper \"python3 /Users/shabykov/Hadoop/attribute_max.py 8\" \\\n",
    "    -reducer \"python3 /Users/shabykov/Hadoop/attribute_max.py 0\"\n",
    "    -file /Users/shabykov/Hadoop/attribute_max.py"
   ]
  },
  {
   "cell_type": "code",
   "execution_count": 42,
   "metadata": {
    "collapsed": true
   },
   "outputs": [],
   "source": [
    "out_data = sc.textFile(hdfs + \"/user/askar/output\")"
   ]
  },
  {
   "cell_type": "code",
   "execution_count": 43,
   "metadata": {
    "collapsed": false
   },
   "outputs": [
    {
     "data": {
      "text/plain": [
       "['868\\t']"
      ]
     },
     "execution_count": 43,
     "metadata": {},
     "output_type": "execute_result"
    }
   ],
   "source": [
    "out_data.collect()"
   ]
  },
  {
   "cell_type": "markdown",
   "metadata": {},
   "source": [
    "#### Пример № 3. Вычисление среднего количества пунктов в формуле изобретения патента для каждой страны. "
   ]
  },
  {
   "cell_type": "markdown",
   "metadata": {},
   "source": [
    "Mapper фильтрует данные, выводит ключ - код страны, значение - количество пунктов в формуле. "
   ]
  },
  {
   "cell_type": "code",
   "execution_count": 44,
   "metadata": {
    "collapsed": true
   },
   "outputs": [],
   "source": [
    "# average_by_attribute_mapper.py\n",
    "\n",
    "import sys\n",
    "\n",
    "for line in sys.stdin:\n",
    "    fields = line.split(\",\")\n",
    "    if fields[8] and fields[8].isdigit():\n",
    "        print(fields[4][1:-1] + '\\t' + fields[8])\n"
   ]
  },
  {
   "cell_type": "raw",
   "metadata": {},
   "source": [
    "hadoop jar $HADOOP_HOME/libexec/share/hadoop/tools/lib/hadoop-streaming-2.8.0.jar \\ \n",
    "    -D mapreduce.job.reduces=1 \\ \n",
    "    -input /user/askar/apat63_99.txt \\\n",
    "    -output /user/askar/output \\ \n",
    "    -mapper \"python3 /Users/shabykov/Hadoop/average_by_attribute_mapper.py\" \\\n",
    "    -file /Users/shabykov/Hadoop/average_by_attribute_mapper.py"
   ]
  },
  {
   "cell_type": "code",
   "execution_count": 52,
   "metadata": {
    "collapsed": false
   },
   "outputs": [],
   "source": [
    "out_data = sc.textFile(hdfs + \"/user/askar/output/part-00000\")"
   ]
  },
  {
   "cell_type": "code",
   "execution_count": 56,
   "metadata": {
    "collapsed": false
   },
   "outputs": [
    {
     "name": "stdout",
     "output_type": "stream",
     "text": [
      "AD\t7\n",
      "AD\t14\n",
      "AD\t28\n",
      "AD\t12\n",
      "AD\t9\n",
      "AE\t4\n",
      "AE\t12\n",
      "AE\t24\n",
      "AE\t16\n",
      "AE\t11\n",
      "AE\t35\n",
      "AE\t16\n",
      "AE\t20\n",
      "AE\t10\n",
      "AE\t7\n",
      "AE\t23\n",
      "AE\t26\n",
      "AE\t11\n",
      "AE\t12\n",
      "AE\t4\n",
      "AG\t20\n",
      "AG\t7\n",
      "AG\t8\n",
      "AG\t12\n",
      "AG\t3\n",
      "AG\t24\n",
      "AG\t14\n",
      "AG\t18\n",
      "AI\t10\n",
      "AM\t18\n",
      "AN\t3\n",
      "AN\t26\n"
     ]
    }
   ],
   "source": [
    "for val in out_data.collect()[:32]:\n",
    "    print(val)"
   ]
  },
  {
   "cell_type": "markdown",
   "metadata": {},
   "source": [
    "Reducer считает среднее значение данных по опредделенному ключу"
   ]
  },
  {
   "cell_type": "code",
   "execution_count": 45,
   "metadata": {
    "collapsed": true
   },
   "outputs": [],
   "source": [
    "# average_by_attribute_reducer.py\n",
    "\n",
    "import sys\n",
    "\n",
    "last_key, count, summ = None, 0, 0.0\n",
    "for line in sys.stdin:\n",
    "    (key, val) = line.split(\"\\t\")\n",
    "    \n",
    "    if last_key and last_key != key:\n",
    "        print(\"{}\\t{}\".format(last_key, summ / count))\n",
    "        summ, count = 0.0, 0\n",
    "    \n",
    "    last_key = key\n",
    "    summ += float(val)\n",
    "    count += 1\n",
    "\n",
    "if last_key:\n",
    "    print(\"{}\\t{}\".format(last_key, summ / count))"
   ]
  },
  {
   "cell_type": "raw",
   "metadata": {},
   "source": [
    "hadoop jar $HADOOP_HOME/libexec/share/hadoop/tools/lib/hadoop-streaming-2.8.0.jar \\ \n",
    "    -D mapreduce.job.reduces=1 \\ \n",
    "    -input /user/askar/apat63_99.txt \\\n",
    "    -output /user/askar/output \\ \n",
    "    -mapper \"python3 /Users/shabykov/Hadoop/average_by_attribute_mapper.py\" \\\n",
    "    -reducer \"python3 /Users/shabykov/Hadoop/average_by_attribute_reducer.py\"\n",
    "    -file /Users/shabykov/Hadoop/average_by_attribute_mapper.py"
   ]
  },
  {
   "cell_type": "code",
   "execution_count": 57,
   "metadata": {
    "collapsed": true
   },
   "outputs": [],
   "source": [
    "out_data = sc.textFile(hdfs + \"/user/askar/output/part-00000\")"
   ]
  },
  {
   "cell_type": "code",
   "execution_count": 58,
   "metadata": {
    "collapsed": false
   },
   "outputs": [
    {
     "name": "stdout",
     "output_type": "stream",
     "text": [
      "AD\t14.0\n",
      "AE\t15.4\n",
      "AG\t13.25\n",
      "AI\t10.0\n",
      "AM\t18.0\n",
      "AN\t9.625\n",
      "AR\t9.188990825688073\n",
      "AT\t10.683988393563704\n",
      "AU\t12.291563832174107\n",
      "AW\t15.5\n",
      "AZ\t11.0\n",
      "BB\t11.0\n",
      "BE\t11.945544554455445\n",
      "BG\t4.989949748743719\n",
      "BH\t6.5\n"
     ]
    }
   ],
   "source": [
    "for val in out_data.collect()[:15]:\n",
    "    print(val)"
   ]
  },
  {
   "cell_type": "markdown",
   "metadata": {},
   "source": [
    "#### Интерфейс Streaming и пакет Aggregate"
   ]
  },
  {
   "cell_type": "markdown",
   "metadata": {},
   "source": [
    "<table>\n",
    "    <tr>\n",
    "        <td><h5>Агрегатор значений (функция)</h5></td>\n",
    "        <td><h5>Описание</h5></td>\n",
    "    </tr>\n",
    "    <tr>\n",
    "        <td>DoubleValueSum</td>\n",
    "        <td>Вычисляет сумму значениу по определенному ключу (double)</td>\n",
    "    </tr>\n",
    "    <tr>\n",
    "        <td>LongValueSum</td>\n",
    "        <td>Вычисляет сумму значениу по определенному ключу (long)</td>\n",
    "    </tr>\n",
    "    <tr>\n",
    "        <td>LongValueMax</td>\n",
    "        <td>Находит максимум в последовательности значений по определенному ключу (double)</td>\n",
    "    </tr>\n",
    "    <tr>\n",
    "        <td>LongValueMin</td>\n",
    "        <td>Находит минимум в последовательности значений по определенному ключу (long)</td>\n",
    "    </tr>\n",
    "    <tr>\n",
    "        <td>StringValueMax</td>\n",
    "        <td>Находит лексинрафический максимум в последовательности значений по определенному ключу (string)</td>\n",
    "    </tr>\n",
    "    <tr>\n",
    "        <td>StringValueMin</td>\n",
    "        <td>Находит лексинрафический минимум в последовательности значений по определенному ключу (string)</td>\n",
    "    </tr>\n",
    "    <tr>\n",
    "        <td>UniqValueCount</td>\n",
    "        <td>Подсчитывает количество уникальных элементов в посследовательности значений.</td>\n",
    "    </tr>\n",
    "    <tr>\n",
    "        <td>ValueHistogram</td>\n",
    "        <td>Находит количество, минимум, максимум, медиану, среднее, стандартное отклонение значений для каждого ключа.</td>\n",
    "    </tr>\n",
    "</table>"
   ]
  },
  {
   "cell_type": "markdown",
   "metadata": {},
   "source": [
    "#### Пример № 4. Вычисление количества патентов в год. "
   ]
  },
  {
   "cell_type": "code",
   "execution_count": null,
   "metadata": {
    "collapsed": true
   },
   "outputs": [],
   "source": [
    "# attribute_count_aggregate.py\n",
    "\n",
    "import sys\n",
    "\n",
    "index = 1 # колонка с годом \n",
    "for line in sys.stdin:\n",
    "    fields = line.strip().split(\",\")\n",
    "    print(\"LongValueSum:{}\\t{}\".format(fields[index], 1))"
   ]
  },
  {
   "cell_type": "raw",
   "metadata": {},
   "source": [
    "hadoop jar $HADOOP_HOME/libexec/share/hadoop/tools/lib/hadoop-streaming-2.8.0.jar \\ \n",
    "    -input /user/askar/apat63_99.txt \\\n",
    "    -output /user/askar/output \\ \n",
    "    -file /Users/shabykov/Hadoop/attribute_count_aggregate.py \\\n",
    "    -mapper \"python3 /Users/shabykov/Hadoop/attribute_count_aggregate.py\" \\\n",
    "    -reducer aggregate"
   ]
  },
  {
   "cell_type": "code",
   "execution_count": 65,
   "metadata": {
    "collapsed": true
   },
   "outputs": [],
   "source": [
    "out_data = sc.textFile(hdfs + \"/user/askar/output/part-00000\")"
   ]
  },
  {
   "cell_type": "code",
   "execution_count": 67,
   "metadata": {
    "collapsed": false
   },
   "outputs": [
    {
     "name": "stdout",
     "output_type": "stream",
     "text": [
      "\"GYEAR\"\t1\n",
      "1963\t45679\n",
      "1964\t47375\n",
      "1965\t62857\n",
      "1966\t68405\n",
      "1967\t65652\n",
      "1968\t59104\n",
      "1969\t67559\n",
      "1970\t64429\n",
      "1971\t78317\n",
      "1972\t74810\n",
      "1973\t74143\n",
      "1974\t76278\n",
      "1975\t72000\n",
      "1976\t70226\n",
      "1977\t65269\n",
      "1978\t66102\n",
      "1979\t48854\n",
      "1980\t61819\n",
      "1981\t65771\n",
      "1982\t57888\n",
      "1983\t56860\n",
      "1984\t67200\n",
      "1985\t71661\n",
      "1986\t70860\n",
      "1987\t82952\n",
      "1988\t77924\n",
      "1989\t95537\n",
      "1990\t90364\n",
      "1991\t96513\n",
      "1992\t97444\n",
      "1993\t98342\n",
      "1994\t101676\n",
      "1995\t101419\n",
      "1996\t109645\n",
      "1997\t111983\n",
      "1998\t147519\n",
      "1999\t153486\n"
     ]
    }
   ],
   "source": [
    "for val in out_data.collect():\n",
    "    print(val)"
   ]
  },
  {
   "cell_type": "code",
   "execution_count": 73,
   "metadata": {
    "collapsed": true
   },
   "outputs": [],
   "source": [
    "x = np.array([[v for v in line.split(\"\\t\")] for line in out_data.collect()])"
   ]
  },
  {
   "cell_type": "code",
   "execution_count": 85,
   "metadata": {
    "collapsed": false
   },
   "outputs": [
    {
     "data": {
      "image/png": "[encoded data removed]",
      "text/plain": [
       "<matplotlib.figure.Figure at 0x1082ef160>"
      ]
     },
     "metadata": {},
     "output_type": "display_data"
    }
   ],
   "source": [
    "plt.figure(figsize=(10,10))\n",
    "plt.subplot(211)\n",
    "plt.plot(x.T[0][1:], x.T[1][1:], 'bo', x.T[0][1:], x.T[1][1:], 'k')\n",
    "plt.xlabel('Year')\n",
    "plt.ylabel('Num patents')\n",
    "plt.show()"
   ]
  },
  {
   "cell_type": "markdown",
   "metadata": {},
   "source": [
    "#### Пример № 5. Определить, увеличилось ли количество стран использующих патентную систему. \n",
    "Необходимо для каждого года (GYEAR - колонка 1) посчитать количество стран (COUNTRY - колонка 4) подавших на патент."
   ]
  },
  {
   "cell_type": "code",
   "execution_count": null,
   "metadata": {
    "collapsed": true
   },
   "outputs": [],
   "source": [
    "# uniq_value_count.py\n",
    "\n",
    "import sys\n",
    "\n",
    "year_index = int(sys.argv[1]) # 1\n",
    "contry_index = int(sys.argv[2]) # 4\n",
    "\n",
    "for line in sys.stdin:\n",
    "    fields = line.split(\",\")\n",
    "    print(\"UniqValueCount:{}\\t{}\".format(fields[year_index], fields[contry_index]))\n"
   ]
  },
  {
   "cell_type": "raw",
   "metadata": {},
   "source": [
    "hadoop jar $HADOOP_HOME/libexec/share/hadoop/tools/lib/hadoop-streaming-2.8.0.jar \\ \n",
    "    -input /user/askar/apat63_99.txt \\\n",
    "    -output /user/askar/output \\ \n",
    "    -file /Users/shabykov/Hadoop/uniq_value_count.py \\\n",
    "    -mapper \"python3 /Users/shabykov/Hadoop/uniq_value_count.py 1 4\" \\\n",
    "    -reducer aggregate"
   ]
  },
  {
   "cell_type": "code",
   "execution_count": 88,
   "metadata": {
    "collapsed": true
   },
   "outputs": [],
   "source": [
    "out_data = sc.textFile(hdfs + \"/user/askar/output/part-00000\")"
   ]
  },
  {
   "cell_type": "code",
   "execution_count": 90,
   "metadata": {
    "collapsed": false
   },
   "outputs": [
    {
     "name": "stdout",
     "output_type": "stream",
     "text": [
      "\"GYEAR\"\t1\n",
      "1963\t64\n",
      "1964\t58\n",
      "1965\t67\n",
      "1966\t71\n",
      "1967\t68\n",
      "1968\t71\n",
      "1969\t68\n",
      "1970\t72\n",
      "1971\t74\n",
      "1972\t76\n",
      "1973\t72\n",
      "1974\t77\n",
      "1975\t73\n",
      "1976\t71\n",
      "1977\t76\n",
      "1978\t70\n",
      "1979\t67\n",
      "1980\t71\n",
      "1981\t71\n",
      "1982\t62\n",
      "1983\t65\n",
      "1984\t70\n",
      "1985\t74\n",
      "1986\t69\n",
      "1987\t74\n",
      "1988\t72\n",
      "1989\t79\n",
      "1990\t70\n",
      "1991\t75\n",
      "1992\t76\n",
      "1993\t83\n",
      "1994\t88\n",
      "1995\t89\n",
      "1996\t90\n",
      "1997\t89\n",
      "1998\t94\n",
      "1999\t108\n"
     ]
    }
   ],
   "source": [
    "for val in out_data.collect():\n",
    "    print(val)"
   ]
  },
  {
   "cell_type": "code",
   "execution_count": 91,
   "metadata": {
    "collapsed": true
   },
   "outputs": [],
   "source": [
    "x = np.array([[v for v in line.split(\"\\t\")] for line in out_data.collect()])"
   ]
  },
  {
   "cell_type": "code",
   "execution_count": 92,
   "metadata": {
    "collapsed": false
   },
   "outputs": [
    {
     "data": {
      "image/png": "[encoded data removed]",
      "text/plain": [
       "<matplotlib.figure.Figure at 0x1080954e0>"
      ]
     },
     "metadata": {},
     "output_type": "display_data"
    }
   ],
   "source": [
    "plt.figure(figsize=(10,10))\n",
    "plt.subplot(211)\n",
    "plt.plot(x.T[0][1:], x.T[1][1:], 'bo', x.T[0][1:], x.T[1][1:], 'k')\n",
    "plt.xlabel('Year')\n",
    "plt.ylabel('Num contries')\n",
    "plt.show()"
   ]
  },
  {
   "cell_type": "markdown",
   "metadata": {},
   "source": [
    "#### Пример № 6. Найти распределение стран, в которых выдавались патенты по годам.\n"
   ]
  },
  {
   "cell_type": "code",
   "execution_count": null,
   "metadata": {
    "collapsed": true
   },
   "outputs": [],
   "source": [
    "# value_histogram.py\n",
    "import sys\n",
    "\n",
    "year_index = int(sys.argv[1])\n",
    "contry_index = int(sys.argv[2])\n",
    "\n",
    "for line in sys.stdin:\n",
    "    fields = line.split(\",\")\n",
    "    print(\"ValueHistogram:{}\\t{}\\t{}\".format(fields[year_index], fields[contry_index], 1))"
   ]
  },
  {
   "cell_type": "raw",
   "metadata": {},
   "source": [
    "hadoop jar $HADOOP_HOME/libexec/share/hadoop/tools/lib/hadoop-streaming-2.8.0.jar \\ \n",
    "    -input /user/askar/apat63_99.txt \\\n",
    "    -output /user/askar/output \\ \n",
    "    -file /Users/shabykov/Hadoop/value_histogram.py \\\n",
    "    -mapper \"python3 /Users/shabykov/Hadoop/value_histogram.py 1 4\" \\\n",
    "    -reducer aggregate"
   ]
  },
  {
   "cell_type": "code",
   "execution_count": 93,
   "metadata": {
    "collapsed": true
   },
   "outputs": [],
   "source": [
    "out_data = sc.textFile(hdfs + \"user/askar/output\")"
   ]
  },
  {
   "cell_type": "code",
   "execution_count": 94,
   "metadata": {
    "collapsed": false
   },
   "outputs": [
    {
     "name": "stdout",
     "output_type": "stream",
     "text": [
      "\"GYEAR\"\t1\t1\t1\t1\t1.0\t0.0\n",
      "1963\t64\t1\t5\t37174\t713.734375\t4610.076525402627\n",
      "1964\t58\t1\t7\t38410\t816.8103448275862\t4997.413601595352\n",
      "1965\t67\t1\t5\t50331\t938.1641791044776\t6104.779230296307\n",
      "1966\t71\t1\t5\t54634\t963.4507042253521\t6443.625995189338\n",
      "1967\t68\t1\t8\t51274\t965.4705882352941\t6177.445623039149\n",
      "1968\t71\t1\t7\t45781\t832.4507042253521\t5401.229955880634\n",
      "1969\t68\t1\t8\t50394\t993.5147058823529\t6080.713518728092\n",
      "1970\t72\t1\t7\t47073\t894.8472222222222\t5527.883233761672\n",
      "1971\t74\t1\t9\t55976\t1058.337837837838\t6492.837390992137\n",
      "1972\t76\t1\t7\t51518\t984.3421052631579\t5916.340924557642\n",
      "1973\t72\t1\t10\t51501\t1029.763888888889\t6066.751172701396\n",
      "1974\t77\t1\t8\t50646\t990.6233766233767\t5794.207539776167\n",
      "1975\t73\t1\t9\t46715\t986.3013698630137\t5501.2231458973765\n",
      "1976\t71\t1\t11\t44280\t989.0985915492957\t5299.050345839762\n",
      "1977\t76\t1\t8\t41490\t858.8026315789474\t4801.305653070173\n",
      "1978\t70\t1\t11\t41254\t944.3142857142857\t4984.348799830059\n",
      "1979\t67\t1\t10\t30078\t729.1641791044776\t3718.7885990853274\n",
      "1980\t71\t1\t11\t37354\t870.6901408450705\t4504.845371317451\n",
      "1981\t71\t1\t10\t39223\t926.3521126760563\t4752.435224825007\n",
      "1982\t62\t1\t18\t33896\t933.6774193548387\t4406.0932434681035\n",
      "1983\t65\t1\t14\t32871\t874.7692307692307\t4204.21240687601\n",
      "1984\t70\t1\t15\t38367\t960.0\t4759.372905871409\n",
      "1985\t74\t1\t10\t39556\t968.3918918918919\t4822.275076557569\n",
      "1986\t69\t1\t17\t38126\t1026.9565217391305\t4845.040375939756\n",
      "1987\t74\t1\t13\t43520\t1120.972972972973\t5404.6809565887215\n",
      "1988\t72\t1\t14\t40496\t1082.2777777777778\t5125.4441033117155\n",
      "1989\t79\t1\t11\t50186\t1209.3291139240507\t6068.672984303751\n",
      "1990\t70\t1\t17\t47390\t1290.9142857142858\t6087.321821957636\n",
      "1991\t75\t1\t12\t51178\t1286.84\t6349.551843587074\n",
      "1992\t76\t1\t9\t52253\t1282.157894736842\t6452.9664599286425\n",
      "1993\t83\t1\t6\t53231\t1184.8433734939758\t6291.770165767472\n",
      "1994\t88\t1\t8\t56066\t1155.409090909091\t6393.192298411085\n",
      "1995\t89\t1\t6\t55739\t1139.5393258426966\t6302.712164653876\n",
      "1996\t90\t1\t6\t61104\t1218.2777777777778\t6837.703059796514\n",
      "1997\t89\t1\t8\t61707\t1258.2359550561798\t6941.247190692948\n",
      "1998\t94\t1\t10\t80291\t1569.3510638297873\t8820.396188944444\n",
      "1999\t108\t1\t5\t83906\t1421.1666666666667\t8580.126821237463\n"
     ]
    }
   ],
   "source": [
    "for val in out_data.collect():\n",
    "    print(val)"
   ]
  },
  {
   "cell_type": "markdown",
   "metadata": {},
   "source": [
    "Год , Количество стран уникальных стран (UniqValueCount), Минимальное количество стран (LongValueMin), Медиана, Максимум, Среднее, Дисперсия "
   ]
  },
  {
   "cell_type": "code",
   "execution_count": 98,
   "metadata": {
    "collapsed": true
   },
   "outputs": [],
   "source": [
    "x = np.array([[v for v in line.split(\"\\t\")] for line in out_data.collect()])"
   ]
  },
  {
   "cell_type": "code",
   "execution_count": 111,
   "metadata": {
    "collapsed": false
   },
   "outputs": [
    {
     "data": {
      "image/png": "[encoded data removed]",
      "text/plain": [
       "<matplotlib.figure.Figure at 0x1082c3470>"
      ]
     },
     "metadata": {},
     "output_type": "display_data"
    }
   ],
   "source": [
    "plt.figure(figsize=(15,15))\n",
    "plt.subplot(211)\n",
    "plt.plot(x.T[0][1:], x.T[3][1:], 'bo', x.T[0][1:], x.T[3][1:], 'k', color='b', label='median')\n",
    "plt.plot(x.T[0][1:], x.T[5][1:], 'bo', x.T[0][1:], x.T[5][1:], 'k', color='r', label='mean')\n",
    "plt.plot(x.T[0][1:], x.T[6][1:], 'bo', x.T[0][1:], x.T[6][1:], 'k', color='y', label='disper')\n",
    "plt.xlabel('Year')\n",
    "plt.ylabel('Num contries')\n",
    "plt.show()"
   ]
  },
  {
   "cell_type": "code",
   "execution_count": 112,
   "metadata": {
    "collapsed": false
   },
   "outputs": [],
   "source": [
    "sc.stop()"
   ]
  },
  {
   "cell_type": "code",
   "execution_count": null,
   "metadata": {
    "collapsed": true
   },
   "outputs": [],
   "source": []
  }
 ],
 "metadata": {
  "kernelspec": {
   "display_name": "Python 3",
   "language": "python",
   "name": "python3"
  },
  "language_info": {
   "codemirror_mode": {
    "name": "ipython",
    "version": 3
   },
   "file_extension": ".py",
   "mimetype": "text/x-python",
   "name": "python",
   "nbconvert_exporter": "python",
   "pygments_lexer": "ipython3",
   "version": "3.5.0"
  }
 },
 "nbformat": 4,
 "nbformat_minor": 2
}

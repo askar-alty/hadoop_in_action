{
 "cells": [
  {
   "cell_type": "markdown",
   "metadata": {
    "deletable": true,
    "editable": true
   },
   "source": [
    "### Hive"
   ]
  },
  {
   "cell_type": "code",
   "execution_count": 1,
   "metadata": {
    "collapsed": true
   },
   "outputs": [],
   "source": [
    "import numpy as np\n",
    "import pandas as pd\n",
    "import matplotlib.pyplot as plt"
   ]
  },
  {
   "cell_type": "code",
   "execution_count": null,
   "metadata": {
    "collapsed": true,
    "deletable": true,
    "editable": true
   },
   "outputs": [],
   "source": [
    "CREATE TABLE cite(citing INT, cited INT) // стандартный набор при создании таблиц\n",
    "ROW FORMAT DELIMITED  \n",
    "FIELDS TERMINATED BY ',' // разделяем поля данных по запятой\n",
    "LINES TERMINATED BY '\\n'  // разделяем данные (сторики таблицы) по знаку перехода на новую строку\n",
    "STORED AS TEXTFILE; // считываем результат в виде текстового файла"
   ]
  },
  {
   "cell_type": "code",
   "execution_count": null,
   "metadata": {
    "collapsed": true,
    "deletable": true,
    "editable": true
   },
   "outputs": [],
   "source": [
    "LOAD DATA LOCAL INPATH 'cite75_99.txt' # загружаем файл из (LOCAL) локальной файловой системы\n",
    "OVERWRITE INTO TABLE cite; # записываем метадаты в таблицу cite."
   ]
  },
  {
   "cell_type": "markdown",
   "metadata": {
    "deletable": true,
    "editable": true
   },
   "source": [
    "#### Представил данные с номерам патентов и ссылками на них в hive"
   ]
  },
  {
   "cell_type": "code",
   "execution_count": null,
   "metadata": {
    "collapsed": true,
    "deletable": true,
    "editable": true
   },
   "outputs": [],
   "source": [
    "CREATE TABLE cite(citing INT, cited INT)\n",
    "ROW FORMAT DELIMITED  \n",
    "FIELDS TERMINATED BY ','\n",
    "LINES TERMINATED BY '\\n'\n",
    "STORED AS TEXTFILE;"
   ]
  },
  {
   "cell_type": "code",
   "execution_count": null,
   "metadata": {
    "collapsed": true,
    "deletable": true,
    "editable": true
   },
   "outputs": [],
   "source": [
    "LOAD DATA INPATH '/user/askar/cite75_99.txt'\n",
    "OVERWRITE INTO TABLE cite;"
   ]
  },
  {
   "cell_type": "markdown",
   "metadata": {
    "deletable": true,
    "editable": true
   },
   "source": [
    "#### Выведим инфу по таблице"
   ]
  },
  {
   "cell_type": "code",
   "execution_count": null,
   "metadata": {
    "collapsed": true,
    "deletable": true,
    "editable": true
   },
   "outputs": [],
   "source": [
    "hive> show tables;\n",
    "OK\n",
    "cite\n",
    "employee\n",
    "invites\n",
    "pokes\n",
    "Time taken: 0.048 seconds, Fetched: 4 row(s)"
   ]
  },
  {
   "cell_type": "code",
   "execution_count": null,
   "metadata": {
    "collapsed": true,
    "deletable": true,
    "editable": true
   },
   "outputs": [],
   "source": [
    "hive> describe cite;\n",
    "OK\n",
    "citing              \tint                 \t                    \n",
    "cited               \tint                 \t                    \n",
    "Time taken: 0.057 seconds, Fetched: 2 row(s)"
   ]
  },
  {
   "cell_type": "markdown",
   "metadata": {
    "deletable": true,
    "editable": true
   },
   "source": [
    "#### Выведем содержимое табл."
   ]
  },
  {
   "cell_type": "code",
   "execution_count": null,
   "metadata": {
    "collapsed": true,
    "deletable": true,
    "editable": true
   },
   "outputs": [],
   "source": [
    "hive> select * from cite limit 20;\n",
    "OK\n",
    "NULL\tNULL\n",
    "3858241\t956203\n",
    "3858241\t1324234\n",
    "3858241\t3398406\n",
    "3858241\t3557384\n",
    "3858241\t3634889\n",
    "3858242\t1515701\n",
    "3858242\t3319261\n",
    "3858242\t3668705\n",
    "3858242\t3707004\n",
    "3858243\t2949611\n",
    "3858243\t3146465\n",
    "3858243\t3156927\n",
    "3858243\t3221341\n",
    "3858243\t3574238\n",
    "3858243\t3681785\n",
    "3858243\t3684611\n",
    "3858244\t14040\n",
    "3858244\t17445\n",
    "3858244\t2211676\n",
    "Time taken: 0.129 seconds, Fetched: 20 row(s)"
   ]
  },
  {
   "cell_type": "markdown",
   "metadata": {
    "deletable": true,
    "editable": true
   },
   "source": [
    "#### Выведем соличество объектов в таблице"
   ]
  },
  {
   "cell_type": "code",
   "execution_count": null,
   "metadata": {
    "collapsed": true,
    "deletable": true,
    "editable": true
   },
   "outputs": [],
   "source": [
    "hive> select count(1) from cite;\n",
    "\n",
    "WARNING: Hive-on-MR is deprecated in Hive 2 and may not be available in the future versions. Consider using a different execution engine (i.e. spark, tez) or using Hive 1.X releases.\n",
    "Query ID = real7_20170605184015_008479e0-25f9-49d5-bf4b-d2fc56edfb07\n",
    "Total jobs = 1\n",
    "Launching Job 1 out of 1\n",
    "Number of reduce tasks determined at compile time: 1\n",
    "In order to change the average load for a reducer (in bytes):\n",
    "  set hive.exec.reducers.bytes.per.reducer=<number>\n",
    "In order to limit the maximum number of reducers:\n",
    "  set hive.exec.reducers.max=<number>\n",
    "In order to set a constant number of reducers:\n",
    "  set mapreduce.job.reduces=<number>\n",
    "Job running in-process (local Hadoop)\n",
    "2017-06-05 18:40:17,711 Stage-1 map = 0%,  reduce = 0%\n",
    "2017-06-05 18:40:21,746 Stage-1 map = 100%,  reduce = 100%\n",
    "Ended Job = job_local240828200_0001\n",
    "MapReduce Jobs Launched: \n",
    "Stage-Stage-1:  HDFS Read: 528242214 HDFS Write: 0 SUCCESS\n",
    "Total MapReduce CPU Time Spent: 0 msec\n",
    "OK\n",
    "16522439\n",
    "Time taken: 6.585 seconds, Fetched: 1 row(s)"
   ]
  },
  {
   "cell_type": "markdown",
   "metadata": {
    "deletable": true,
    "editable": true
   },
   "source": [
    "#### Создадим новую таблицу для того чтобы записать в него результаты выполнения запроса. \n",
    "Обычно результат запроса может быть таким же большим файлом как исходный по этому лучше сохранять его в новую таблицу, точнее в новый файл в hdfs."
   ]
  },
  {
   "cell_type": "code",
   "execution_count": null,
   "metadata": {
    "collapsed": true,
    "deletable": true,
    "editable": true
   },
   "outputs": [],
   "source": [
    "hive> create table cite_count(citi int, count int);\n",
    "OK\n",
    "Time taken: 0.058 seconds"
   ]
  },
  {
   "cell_type": "code",
   "execution_count": null,
   "metadata": {
    "collapsed": true,
    "deletable": true,
    "editable": true
   },
   "outputs": [],
   "source": [
    "hive> insert overwrite table cite_count\n",
    "    > select cited, count(citing) from cite group by cited;\n",
    "    \n",
    "WARNING: Hive-on-MR is deprecated in Hive 2 and may not be available in the future versions. Consider using a different execution engine (i.e. spark, tez) or using Hive 1.X releases.\n",
    "Query ID = real7_20170605184850_566afb0a-07bd-4122-ac69-fcd6e7055311\n",
    "Total jobs = 1\n",
    "Launching Job 1 out of 1\n",
    "Number of reduce tasks not specified. Estimated from input data size: 2\n",
    "In order to change the average load for a reducer (in bytes):\n",
    "  set hive.exec.reducers.bytes.per.reducer=<number>\n",
    "In order to limit the maximum number of reducers:\n",
    "  set hive.exec.reducers.max=<number>\n",
    "In order to set a constant number of reducers:\n",
    "  set mapreduce.job.reduces=<number>\n",
    "Job running in-process (local Hadoop)\n",
    "2017-06-05 18:48:51,990 Stage-1 map = 0%,  reduce = 0%\n",
    "2017-06-05 18:49:09,064 Stage-1 map = 34%,  reduce = 0%\n",
    "2017-06-05 18:49:33,156 Stage-1 map = 67%,  reduce = 0%\n",
    "2017-06-05 18:49:39,184 Stage-1 map = 81%,  reduce = 0%\n",
    "2017-06-05 18:49:44,209 Stage-1 map = 100%,  reduce = 0%\n",
    "2017-06-05 18:49:50,231 Stage-1 map = 100%,  reduce = 50%\n",
    "2017-06-05 18:49:55,251 Stage-1 map = 100%,  reduce = 100%\n",
    "Ended Job = job_local1848055762_0002\n",
    "Loading data to table default.cite_count\n",
    "MapReduce Jobs Launched: \n",
    "Stage-Stage-1:  HDFS Read: 1584601902 HDFS Write: 49286388 SUCCESS\n",
    "Total MapReduce CPU Time Spent: 0 msec\n",
    "OK\n",
    "Time taken: 65.375 seconds"
   ]
  },
  {
   "cell_type": "code",
   "execution_count": null,
   "metadata": {
    "collapsed": true,
    "deletable": true,
    "editable": true
   },
   "outputs": [],
   "source": [
    "hive> select * from cite_count where count > 10 limit 10;\n",
    "OK\n",
    "15192\t18\n",
    "28722\t11\n",
    "32066\t11\n",
    "40242\t14\n",
    "55620\t18\n",
    "61780\t19\n",
    "79436\t11\n",
    "86016\t17\n",
    "111128\t12\n",
    "112650\t12\n",
    "Time taken: 0.113 seconds, Fetched: 10 row(s)"
   ]
  },
  {
   "cell_type": "markdown",
   "metadata": {
    "deletable": true,
    "editable": true
   },
   "source": [
    "#### Удалим результирующую таблицу, файлы из hdfs"
   ]
  },
  {
   "cell_type": "code",
   "execution_count": null,
   "metadata": {
    "collapsed": true,
    "deletable": true,
    "editable": true
   },
   "outputs": [],
   "source": [
    "hive> drop table cite_count;\n",
    "OK\n",
    "Time taken: 1.172 seconds"
   ]
  },
  {
   "cell_type": "markdown",
   "metadata": {
    "deletable": true,
    "editable": true
   },
   "source": [
    "#### Объединение таблиц"
   ]
  },
  {
   "cell_type": "code",
   "execution_count": null,
   "metadata": {
    "collapsed": true,
    "deletable": true,
    "editable": true
   },
   "outputs": [],
   "source": [
    "create table customers(c_id int, name string, phone string )\n",
    "row format delimited\n",
    "fields terminated by ','\n",
    "lines terminated by '\\n'\n",
    "stored as textfile;"
   ]
  },
  {
   "cell_type": "code",
   "execution_count": null,
   "metadata": {
    "collapsed": true,
    "deletable": true,
    "editable": true
   },
   "outputs": [],
   "source": [
    "load data inpath '/user/hive/warehouse/employee/customer.csv'\n",
    "OVERWRITE INTO TABLE customers;"
   ]
  },
  {
   "cell_type": "code",
   "execution_count": null,
   "metadata": {
    "collapsed": true,
    "deletable": true,
    "editable": true
   },
   "outputs": [],
   "source": [
    "create table orders(c_id int, name string, price double, date_t string)\n",
    "row format delimited\n",
    "fields terminated by ','\n",
    "lines terminated by '\\n'\n",
    "stored as textfile;"
   ]
  },
  {
   "cell_type": "code",
   "execution_count": null,
   "metadata": {
    "collapsed": true,
    "deletable": true,
    "editable": true
   },
   "outputs": [],
   "source": [
    "load data inpath '/user/askar/join/orders.csv'\n",
    "overwrite into table orders;"
   ]
  },
  {
   "cell_type": "markdown",
   "metadata": {
    "deletable": true,
    "editable": true
   },
   "source": [
    "#### join"
   ]
  },
  {
   "cell_type": "code",
   "execution_count": null,
   "metadata": {
    "collapsed": true,
    "deletable": true,
    "editable": true
   },
   "outputs": [],
   "source": [
    "hive> select c.c_id, c.name, c.phone, o.name, o.price, o.date_t from customers c join orders o on c.c_id = o.c_id;\n",
    "\n",
    "WARNING: Hive-on-MR is deprecated in Hive 2 and may not be available in the future versions. Consider using a different execution engine (i.e. spark, tez) or using Hive 1.X releases.\n",
    "Query ID = real7_20170605191432_c0d2b6cb-93fa-4e97-9fe5-53d9650a5554\n",
    "Total jobs = 1\n",
    "SLF4J: Class path contains multiple SLF4J bindings.\n",
    "SLF4J: Found binding in [jar:file:/usr/local/Cellar/hive/2.1.1/libexec/lib/log4j-slf4j-impl-2.4.1.jar!/org/slf4j/impl/StaticLoggerBinder.class]\n",
    "SLF4J: Found binding in [jar:file:/usr/local/Cellar/hadoop/2.8.0/libexec/share/hadoop/common/lib/slf4j-log4j12-1.7.10.jar!/org/slf4j/impl/StaticLoggerBinder.class]\n",
    "SLF4J: See http://www.slf4j.org/codes.html#multiple_bindings for an explanation.\n",
    "SLF4J: Actual binding is of type [org.apache.logging.slf4j.Log4jLoggerFactory]\n",
    "2017-06-05 19:14:39\tStarting to launch local task to process map join;\tmaximum memory = 477626368\n",
    "2017-06-05 19:14:40\tDump the side-table for tag: 1 with group count: 3 into file: file:/var/folders/fd/jsc_8yyd1n17_x6g_28jwcdw0000gn/T/real7/1b2b1733-9893-4b14-a10b-dd7fc75cc599/hive_2017-06-05_19-14-32_536_2898106803795814289-1/-local-10004/HashTable-Stage-3/MapJoin-mapfile11--.hashtable\n",
    "2017-06-05 19:14:40\tUploaded 1 File to: file:/var/folders/fd/jsc_8yyd1n17_x6g_28jwcdw0000gn/T/real7/1b2b1733-9893-4b14-a10b-dd7fc75cc599/hive_2017-06-05_19-14-32_536_2898106803795814289-1/-local-10004/HashTable-Stage-3/MapJoin-mapfile11--.hashtable (410 bytes)\n",
    "2017-06-05 19:14:40\tEnd of local task; Time Taken: 1.113 sec.\n",
    "Execution completed successfully\n",
    "MapredLocal task succeeded\n",
    "Launching Job 1 out of 1\n",
    "Number of reduce tasks is set to 0 since there's no reduce operator\n",
    "Job running in-process (local Hadoop)\n",
    "2017-06-05 19:14:43,456 Stage-3 map = 100%,  reduce = 0%\n",
    "Ended Job = job_local1419657251_0002\n",
    "MapReduce Jobs Launched: \n",
    "Stage-Stage-3:  HDFS Read: 768 HDFS Write: 0 SUCCESS\n",
    "Total MapReduce CPU Time Spent: 0 msec\n",
    "OK\n",
    "1\tHabib Nurmagamedov\t555-555-555\tB\t88.25\t20-May-2009\n",
    "2\tTony Ferguson\t564-667-789\tC\t32.45\t30-Nov-2008\n",
    "3\tJose Aldo\t456-543-222\tA\t12.95\t02-Jun-2009\n",
    "3\tJose Aldo\t456-543-222\tD\t25.67\t22-Jan-2010\n",
    "Time taken: 10.926 seconds, Fetched: 4 row(s)"
   ]
  },
  {
   "cell_type": "markdown",
   "metadata": {
    "deletable": true,
    "editable": true
   },
   "source": [
    "#### lift join"
   ]
  },
  {
   "cell_type": "code",
   "execution_count": null,
   "metadata": {
    "collapsed": true,
    "deletable": true,
    "editable": true
   },
   "outputs": [],
   "source": [
    "hive> select c.c_id, c.name, c.phone, o.name, o.price, o.date_t from customers c left join orders o on c.c_id = o.c_id;\n",
    "\n",
    "WARNING: Hive-on-MR is deprecated in Hive 2 and may not be available in the future versions. Consider using a different execution engine (i.e. spark, tez) or using Hive 1.X releases.\n",
    "Query ID = real7_20170605191636_eaa3f4e8-68d4-48da-a8b9-c4f1eaade880\n",
    "Total jobs = 1\n",
    "SLF4J: Class path contains multiple SLF4J bindings.\n",
    "SLF4J: Found binding in [jar:file:/usr/local/Cellar/hive/2.1.1/libexec/lib/log4j-slf4j-impl-2.4.1.jar!/org/slf4j/impl/StaticLoggerBinder.class]\n",
    "SLF4J: Found binding in [jar:file:/usr/local/Cellar/hadoop/2.8.0/libexec/share/hadoop/common/lib/slf4j-log4j12-1.7.10.jar!/org/slf4j/impl/StaticLoggerBinder.class]\n",
    "SLF4J: See http://www.slf4j.org/codes.html#multiple_bindings for an explanation.\n",
    "SLF4J: Actual binding is of type [org.apache.logging.slf4j.Log4jLoggerFactory]\n",
    "2017-06-05 19:16:44\tStarting to launch local task to process map join;\tmaximum memory = 477626368\n",
    "2017-06-05 19:16:44\tDump the side-table for tag: 1 with group count: 3 into file: file:/var/folders/fd/jsc_8yyd1n17_x6g_28jwcdw0000gn/T/real7/1b2b1733-9893-4b14-a10b-dd7fc75cc599/hive_2017-06-05_19-16-36_947_3614742025118388585-1/-local-10004/HashTable-Stage-3/MapJoin-mapfile21--.hashtable\n",
    "2017-06-05 19:16:44\tUploaded 1 File to: file:/var/folders/fd/jsc_8yyd1n17_x6g_28jwcdw0000gn/T/real7/1b2b1733-9893-4b14-a10b-dd7fc75cc599/hive_2017-06-05_19-16-36_947_3614742025118388585-1/-local-10004/HashTable-Stage-3/MapJoin-mapfile21--.hashtable (410 bytes)\n",
    "2017-06-05 19:16:44\tEnd of local task; Time Taken: 0.923 sec.\n",
    "Execution completed successfully\n",
    "MapredLocal task succeeded\n",
    "Launching Job 1 out of 1\n",
    "Number of reduce tasks is set to 0 since there's no reduce operator\n",
    "Job running in-process (local Hadoop)\n",
    "2017-06-05 19:16:47,841 Stage-3 map = 100%,  reduce = 0%\n",
    "Ended Job = job_local1877425038_0003\n",
    "MapReduce Jobs Launched: \n",
    "Stage-Stage-3:  HDFS Read: 884 HDFS Write: 0 SUCCESS\n",
    "Total MapReduce CPU Time Spent: 0 msec\n",
    "OK\n",
    "1\tHabib Nurmagamedov\t555-555-555\tB\t88.25\t20-May-2009\n",
    "2\tTony Ferguson\t564-667-789\tC\t32.45\t30-Nov-2008\n",
    "3\tJose Aldo\t456-543-222\tA\t12.95\t02-Jun-2009\n",
    "3\tJose Aldo\t456-543-222\tD\t25.67\t22-Jan-2010\n",
    "4\tKonor Maccgregor\t777-777-111\tNULL\tNULL\tNULL"
   ]
  },
  {
   "cell_type": "markdown",
   "metadata": {},
   "source": [
    "### Добавил новые данные "
   ]
  },
  {
   "cell_type": "code",
   "execution_count": null,
   "metadata": {
    "collapsed": true,
    "deletable": true,
    "editable": true
   },
   "outputs": [],
   "source": [
    "create table apat(PATENT bigint, GYEAR int, GDATE int, APPYEAR string, COUNTRY string,\n",
    "                    POSTATE string, ASSIGNEE int, ASSCODE int, CLAIMS double, NCLASS int,\n",
    "                    CAT string, SUBCAT string, CMADE string, CRECEIVE string, RATIOCIT string, \n",
    "                    GENERAL string, ORIGINAL string, FWDAPLAG string, BCKGTLAG string, \n",
    "                    SELFCTUB string, SELFCTLB string, SECDUPBD string, SECDLWB string)\n",
    "row format delimited\n",
    "fields terminated by ','\n",
    "lines terminated by '\\n'\n",
    "stored as textfile;"
   ]
  },
  {
   "cell_type": "code",
   "execution_count": null,
   "metadata": {
    "collapsed": true
   },
   "outputs": [],
   "source": [
    "load data inpath '/user/askar/apat63_99.txt'\n",
    "overwrite into table apat;"
   ]
  },
  {
   "cell_type": "code",
   "execution_count": null,
   "metadata": {
    "collapsed": true
   },
   "outputs": [],
   "source": [
    "hive>select GYEAR, sum(CLAIMS), avg(CLAIMS), count(CLAIMS) from apat where CLAIMS is not NULL group by GYEAR;\n",
    "\n",
    "WARNING: Hive-on-MR is deprecated in Hive 2 and may not be available in the future versions. Consider using a different execution engine (i.e. spark, tez) or using Hive 1.X releases.\n",
    "Query ID = real7_20170606115549_4fae7578-7e95-4205-b24e-c0b9a270f492\n",
    "Total jobs = 1\n",
    "Launching Job 1 out of 1\n",
    "Number of reduce tasks not specified. Estimated from input data size: 1\n",
    "In order to change the average load for a reducer (in bytes):\n",
    "  set hive.exec.reducers.bytes.per.reducer=<number>\n",
    "In order to limit the maximum number of reducers:\n",
    "  set hive.exec.reducers.max=<number>\n",
    "In order to set a constant number of reducers:\n",
    "  set mapreduce.job.reduces=<number>\n",
    "Job running in-process (local Hadoop)\n",
    "2017-06-06 11:55:50,859 Stage-1 map = 0%,  reduce = 0%\n",
    "2017-06-06 11:55:53,868 Stage-1 map = 100%,  reduce = 100%\n",
    "Ended Job = job_local1790077692_0010\n",
    "MapReduce Jobs Launched: \n",
    "Stage-Stage-1:  HDFS Read: 9002542026 HDFS Write: 0 SUCCESS\n",
    "Total MapReduce CPU Time Spent: 0 msec\n",
    "OK\n",
    "1975\t638042.0\t8.962900529591076\t71187\n",
    "1976\t660311.0\t9.408015843615535\t70186\n",
    "1977\t631083.0\t9.678444904531862\t65205\n",
    "1978\t676132.0\t10.23140245747836\t66084\n",
    "1979\t502582.0\t10.29079814898235\t48838\n",
    "1980\t639151.0\t10.340241377078884\t61812\n",
    "1981\t685498.0\t10.423288629382963\t65766\n",
    "1982\t603096.0\t10.420485175202156\t57876\n",
    "1983\t598883.0\t10.533515082226717\t56855\n",
    "1984\t712105.0\t10.679759440895047\t66678\n",
    "1985\t786421.0\t10.974337147641641\t71660\n",
    "1986\t791886.0\t11.175675294250473\t70858\n",
    "1987\t940817.0\t11.371863366049412\t82732\n",
    "1988\t910241.0\t11.681287938092732\t77923\n",
    "1989\t1157249.0\t12.113097543360164\t95537\n",
    "1990\t1110995.0\t12.295616277654194\t90357\n",
    "1991\t1215644.0\t12.596433419337457\t96507\n",
    "1992\t1247769.0\t12.80616821470724\t97435\n",
    "1993\t1268070.0\t12.895146282680985\t98337\n",
    "1994\t1348335.0\t13.261354918661604\t101674\n",
    "1995\t1382419.0\t13.630903784338086\t101418\n",
    "1996\t1547634.0\t14.115467753851206\t109641\n",
    "1997\t1645361.0\t14.693347026254688\t111980\n",
    "1998\t2273284.0\t15.411154573619237\t147509"
   ]
  },
  {
   "cell_type": "code",
   "execution_count": null,
   "metadata": {
    "collapsed": true
   },
   "outputs": [],
   "source": [
    "create table apat_stat (year int, sum double, mean double, count int)\n",
    "row format delimited\n",
    "fields terminated by '\\t'\n",
    "lines terminated by '\\n'\n",
    "stored as textfile;"
   ]
  },
  {
   "cell_type": "code",
   "execution_count": null,
   "metadata": {
    "collapsed": true
   },
   "outputs": [],
   "source": [
    "insert overwrite table apat_stat \n",
    "select GYEAR, sum(CLAIMS), avg(CLAIMS), count(CLAIMS) from apat where CLAIMS is not NULL group by GYEAR;"
   ]
  },
  {
   "cell_type": "code",
   "execution_count": 103,
   "metadata": {
    "collapsed": false
   },
   "outputs": [],
   "source": [
    "import findspark\n",
    "findspark.init()\n",
    "import pyspark\n",
    "sc = pyspark.SparkContext(appName=\"Hadoop Hive\")\n",
    "hdfs = \"hdfs://localhost:9000/\""
   ]
  },
  {
   "cell_type": "code",
   "execution_count": 104,
   "metadata": {
    "collapsed": false
   },
   "outputs": [],
   "source": [
    "out_data = sc.textFile(hdfs + '/user/hive/warehouse/apat_stat/000000_0')"
   ]
  },
  {
   "cell_type": "code",
   "execution_count": 105,
   "metadata": {
    "collapsed": false
   },
   "outputs": [],
   "source": [
    "out_data = out_data.flatMap(lambda x: [[float(v) if '.' in v else int(v) for v in x.split('\\t')]])"
   ]
  },
  {
   "cell_type": "code",
   "execution_count": 106,
   "metadata": {
    "collapsed": false
   },
   "outputs": [],
   "source": [
    "v1 = out_data.take(1)[0][1]"
   ]
  },
  {
   "cell_type": "code",
   "execution_count": 110,
   "metadata": {
    "collapsed": false
   },
   "outputs": [],
   "source": [
    "out_data = out_data.flatMap(lambda x: [x + [round((x[1] - v1) / v1 * 100, 3)]])"
   ]
  },
  {
   "cell_type": "code",
   "execution_count": 111,
   "metadata": {
    "collapsed": false
   },
   "outputs": [],
   "source": [
    "x = np.array(out_data.collect())"
   ]
  },
  {
   "cell_type": "code",
   "execution_count": null,
   "metadata": {
    "collapsed": true
   },
   "outputs": [],
   "source": [
    "pd.DataFrame()"
   ]
  },
  {
   "cell_type": "code",
   "execution_count": 113,
   "metadata": {
    "collapsed": false
   },
   "outputs": [
    {
     "data": {
      "image/png": "[encoded data removed]",
      "text/plain": [
       "<matplotlib.figure.Figure at 0x109fb5978>"
      ]
     },
     "metadata": {},
     "output_type": "display_data"
    }
   ],
   "source": [
    "plt.figure(figsize=(10,10))\n",
    "plt.subplot(211)\n",
    "plt.plot(x.T[0], x.T[2], 'bo', x.T[0], x.T[2], 'k',  color='b')\n",
    "plt.xlabel('Year')\n",
    "plt.ylabel('Mean number')\n",
    "plt.show()"
   ]
  },
  {
   "cell_type": "code",
   "execution_count": 114,
   "metadata": {
    "collapsed": false
   },
   "outputs": [
    {
     "data": {
      "image/png": "[encoded data removed]",
      "text/plain": [
       "<matplotlib.figure.Figure at 0x1085c4128>"
      ]
     },
     "metadata": {},
     "output_type": "display_data"
    }
   ],
   "source": [
    "plt.figure(figsize=(10,10))\n",
    "plt.subplot(211)\n",
    "plt.plot(x.T[0], x.T[-1], 'bo', x.T[0], x.T[-1], 'k',  color='r')\n",
    "plt.xlabel('Year')\n",
    "plt.ylabel('%')\n",
    "plt.show()"
   ]
  },
  {
   "cell_type": "code",
   "execution_count": 115,
   "metadata": {
    "collapsed": false
   },
   "outputs": [
    {
     "data": {
      "image/png": "[encoded data removed]",
      "text/plain": [
       "<matplotlib.figure.Figure at 0x10844eda0>"
      ]
     },
     "metadata": {},
     "output_type": "display_data"
    }
   ],
   "source": [
    "plt.figure(figsize=(25,20))\n",
    "plt.subplots_adjust(bottom = 0.1)\n",
    "plt.scatter(x.T[0], x.T[-1], marker='o', cmap=plt.get_cmap('Spectral'))\n",
    "plt.xlabel('Year')\n",
    "plt.ylabel('%')\n",
    "for label, x_i, y_i in zip(x.T[-1], x.T[0], x.T[-1]):\n",
    "    plt.annotate(\n",
    "        label,\n",
    "        xy=(x_i, y_i), xytext=(-20, 20),\n",
    "        textcoords='offset points', ha='right', va='bottom',\n",
    "        bbox=dict(boxstyle='round,pad=0.5', fc='yellow', alpha=0.5),\n",
    "        arrowprops=dict(arrowstyle = '->', connectionstyle='arc3,rad=0'))\n",
    "plt.show()"
   ]
  },
  {
   "cell_type": "code",
   "execution_count": 129,
   "metadata": {
    "collapsed": false
   },
   "outputs": [],
   "source": [
    "year = pd.Series(x.T[0], index=range(x.T[0].size))\n",
    "mean = pd.Series(x.T[2], index=range(x.T[2].size))\n",
    "procent = pd.Series(x.T[-1], index=range(x.T[-1].size))"
   ]
  },
  {
   "cell_type": "code",
   "execution_count": 130,
   "metadata": {
    "collapsed": true
   },
   "outputs": [],
   "source": [
    "df = pd.DataFrame(dict(year=year, mean=mean, procent=procent)).reset_index()"
   ]
  },
  {
   "cell_type": "code",
   "execution_count": 131,
   "metadata": {
    "collapsed": false
   },
   "outputs": [
    {
     "data": {
      "text/html": [
       "<div>\n",
       "<table border=\"1\" class=\"dataframe\">\n",
       "  <thead>\n",
       "    <tr style=\"text-align: right;\">\n",
       "      <th></th>\n",
       "      <th>index</th>\n",
       "      <th>mean</th>\n",
       "      <th>procent</th>\n",
       "      <th>year</th>\n",
       "    </tr>\n",
       "  </thead>\n",
       "  <tbody>\n",
       "    <tr>\n",
       "      <th>0</th>\n",
       "      <td>0</td>\n",
       "      <td>8.962901</td>\n",
       "      <td>0.000</td>\n",
       "      <td>1975.0</td>\n",
       "    </tr>\n",
       "    <tr>\n",
       "      <th>1</th>\n",
       "      <td>1</td>\n",
       "      <td>9.408016</td>\n",
       "      <td>3.490</td>\n",
       "      <td>1976.0</td>\n",
       "    </tr>\n",
       "    <tr>\n",
       "      <th>2</th>\n",
       "      <td>2</td>\n",
       "      <td>9.678445</td>\n",
       "      <td>-1.091</td>\n",
       "      <td>1977.0</td>\n",
       "    </tr>\n",
       "    <tr>\n",
       "      <th>3</th>\n",
       "      <td>3</td>\n",
       "      <td>10.231402</td>\n",
       "      <td>5.970</td>\n",
       "      <td>1978.0</td>\n",
       "    </tr>\n",
       "    <tr>\n",
       "      <th>4</th>\n",
       "      <td>4</td>\n",
       "      <td>10.290798</td>\n",
       "      <td>-21.231</td>\n",
       "      <td>1979.0</td>\n",
       "    </tr>\n",
       "    <tr>\n",
       "      <th>5</th>\n",
       "      <td>5</td>\n",
       "      <td>10.340241</td>\n",
       "      <td>0.174</td>\n",
       "      <td>1980.0</td>\n",
       "    </tr>\n",
       "    <tr>\n",
       "      <th>6</th>\n",
       "      <td>6</td>\n",
       "      <td>10.423289</td>\n",
       "      <td>7.438</td>\n",
       "      <td>1981.0</td>\n",
       "    </tr>\n",
       "    <tr>\n",
       "      <th>7</th>\n",
       "      <td>7</td>\n",
       "      <td>10.420485</td>\n",
       "      <td>-5.477</td>\n",
       "      <td>1982.0</td>\n",
       "    </tr>\n",
       "    <tr>\n",
       "      <th>8</th>\n",
       "      <td>8</td>\n",
       "      <td>10.533515</td>\n",
       "      <td>-6.137</td>\n",
       "      <td>1983.0</td>\n",
       "    </tr>\n",
       "    <tr>\n",
       "      <th>9</th>\n",
       "      <td>9</td>\n",
       "      <td>10.679759</td>\n",
       "      <td>11.608</td>\n",
       "      <td>1984.0</td>\n",
       "    </tr>\n",
       "    <tr>\n",
       "      <th>10</th>\n",
       "      <td>10</td>\n",
       "      <td>10.974337</td>\n",
       "      <td>23.255</td>\n",
       "      <td>1985.0</td>\n",
       "    </tr>\n",
       "    <tr>\n",
       "      <th>11</th>\n",
       "      <td>11</td>\n",
       "      <td>11.175675</td>\n",
       "      <td>24.112</td>\n",
       "      <td>1986.0</td>\n",
       "    </tr>\n",
       "    <tr>\n",
       "      <th>12</th>\n",
       "      <td>12</td>\n",
       "      <td>11.371863</td>\n",
       "      <td>47.454</td>\n",
       "      <td>1987.0</td>\n",
       "    </tr>\n",
       "    <tr>\n",
       "      <th>13</th>\n",
       "      <td>13</td>\n",
       "      <td>11.681288</td>\n",
       "      <td>42.662</td>\n",
       "      <td>1988.0</td>\n",
       "    </tr>\n",
       "    <tr>\n",
       "      <th>14</th>\n",
       "      <td>14</td>\n",
       "      <td>12.113098</td>\n",
       "      <td>81.375</td>\n",
       "      <td>1989.0</td>\n",
       "    </tr>\n",
       "    <tr>\n",
       "      <th>15</th>\n",
       "      <td>15</td>\n",
       "      <td>12.295616</td>\n",
       "      <td>74.126</td>\n",
       "      <td>1990.0</td>\n",
       "    </tr>\n",
       "    <tr>\n",
       "      <th>16</th>\n",
       "      <td>16</td>\n",
       "      <td>12.596433</td>\n",
       "      <td>90.527</td>\n",
       "      <td>1991.0</td>\n",
       "    </tr>\n",
       "    <tr>\n",
       "      <th>17</th>\n",
       "      <td>17</td>\n",
       "      <td>12.806168</td>\n",
       "      <td>95.562</td>\n",
       "      <td>1992.0</td>\n",
       "    </tr>\n",
       "    <tr>\n",
       "      <th>18</th>\n",
       "      <td>18</td>\n",
       "      <td>12.895146</td>\n",
       "      <td>98.744</td>\n",
       "      <td>1993.0</td>\n",
       "    </tr>\n",
       "    <tr>\n",
       "      <th>19</th>\n",
       "      <td>19</td>\n",
       "      <td>13.261355</td>\n",
       "      <td>111.324</td>\n",
       "      <td>1994.0</td>\n",
       "    </tr>\n",
       "    <tr>\n",
       "      <th>20</th>\n",
       "      <td>20</td>\n",
       "      <td>13.630904</td>\n",
       "      <td>116.666</td>\n",
       "      <td>1995.0</td>\n",
       "    </tr>\n",
       "    <tr>\n",
       "      <th>21</th>\n",
       "      <td>21</td>\n",
       "      <td>14.115468</td>\n",
       "      <td>142.560</td>\n",
       "      <td>1996.0</td>\n",
       "    </tr>\n",
       "    <tr>\n",
       "      <th>22</th>\n",
       "      <td>22</td>\n",
       "      <td>14.693347</td>\n",
       "      <td>157.877</td>\n",
       "      <td>1997.0</td>\n",
       "    </tr>\n",
       "    <tr>\n",
       "      <th>23</th>\n",
       "      <td>23</td>\n",
       "      <td>15.411155</td>\n",
       "      <td>256.291</td>\n",
       "      <td>1998.0</td>\n",
       "    </tr>\n",
       "  </tbody>\n",
       "</table>\n",
       "</div>"
      ],
      "text/plain": [
       "    index       mean  procent    year\n",
       "0       0   8.962901    0.000  1975.0\n",
       "1       1   9.408016    3.490  1976.0\n",
       "2       2   9.678445   -1.091  1977.0\n",
       "3       3  10.231402    5.970  1978.0\n",
       "4       4  10.290798  -21.231  1979.0\n",
       "5       5  10.340241    0.174  1980.0\n",
       "6       6  10.423289    7.438  1981.0\n",
       "7       7  10.420485   -5.477  1982.0\n",
       "8       8  10.533515   -6.137  1983.0\n",
       "9       9  10.679759   11.608  1984.0\n",
       "10     10  10.974337   23.255  1985.0\n",
       "11     11  11.175675   24.112  1986.0\n",
       "12     12  11.371863   47.454  1987.0\n",
       "13     13  11.681288   42.662  1988.0\n",
       "14     14  12.113098   81.375  1989.0\n",
       "15     15  12.295616   74.126  1990.0\n",
       "16     16  12.596433   90.527  1991.0\n",
       "17     17  12.806168   95.562  1992.0\n",
       "18     18  12.895146   98.744  1993.0\n",
       "19     19  13.261355  111.324  1994.0\n",
       "20     20  13.630904  116.666  1995.0\n",
       "21     21  14.115468  142.560  1996.0\n",
       "22     22  14.693347  157.877  1997.0\n",
       "23     23  15.411155  256.291  1998.0"
      ]
     },
     "execution_count": 131,
     "metadata": {},
     "output_type": "execute_result"
    }
   ],
   "source": [
    "df"
   ]
  },
  {
   "cell_type": "code",
   "execution_count": 132,
   "metadata": {
    "collapsed": true
   },
   "outputs": [],
   "source": [
    "sc.stop()"
   ]
  },
  {
   "cell_type": "code",
   "execution_count": null,
   "metadata": {
    "collapsed": true
   },
   "outputs": [],
   "source": []
  }
 ],
 "metadata": {
  "kernelspec": {
   "display_name": "Python 3",
   "language": "python",
   "name": "python3"
  },
  "language_info": {
   "codemirror_mode": {
    "name": "ipython",
    "version": 3
   },
   "file_extension": ".py",
   "mimetype": "text/x-python",
   "name": "python",
   "nbconvert_exporter": "python",
   "pygments_lexer": "ipython3",
   "version": "3.5.0"
  }
 },
 "nbformat": 4,
 "nbformat_minor": 2
}

{
 "cells": [
  {
   "cell_type": "markdown",
   "metadata": {},
   "source": [
    "### Hive"
   ]
  },
  {
   "cell_type": "code",
   "execution_count": null,
   "metadata": {
    "collapsed": true
   },
   "outputs": [],
   "source": [
    "CREATE TABLE cite(citing INT, cited INT) // стандартный набор при создании таблиц\n",
    "ROW FORMAT DELIMITED  \n",
    "FIELDS TERMINATED BY ',' // разделяем поля данных по запятой\n",
    "LINES TERMINATED BY '\\n'  // разделяем данные (сторики таблицы) по знаку перехода на новую строку\n",
    "STORED AS TEXTFILE; // считываем результат в виде текстового файла"
   ]
  },
  {
   "cell_type": "code",
   "execution_count": null,
   "metadata": {
    "collapsed": true
   },
   "outputs": [],
   "source": [
    "LOAD DATA LOCAL INPATH 'cite75_99.txt' # загружаем файл из (LOCAL) локальной файловой системы\n",
    "OVERWRITE INTO TABLE cite; # записываем метадаты в таблицу cite."
   ]
  },
  {
   "cell_type": "markdown",
   "metadata": {},
   "source": [
    "#### Представил данные с номерам патентов и ссылками на них в hive"
   ]
  },
  {
   "cell_type": "code",
   "execution_count": null,
   "metadata": {
    "collapsed": true
   },
   "outputs": [],
   "source": [
    "CREATE TABLE cite(citing INT, cited INT)\n",
    "ROW FORMAT DELIMITED  \n",
    "FIELDS TERMINATED BY ','\n",
    "LINES TERMINATED BY '\\n'\n",
    "STORED AS TEXTFILE;"
   ]
  },
  {
   "cell_type": "code",
   "execution_count": null,
   "metadata": {
    "collapsed": true
   },
   "outputs": [],
   "source": [
    "LOAD DATA INPATH '/user/askar/cite75_99.txt'\n",
    "OVERWRITE INTO TABLE cite;"
   ]
  },
  {
   "cell_type": "markdown",
   "metadata": {},
   "source": [
    "#### Выведим инфу по таблице"
   ]
  },
  {
   "cell_type": "code",
   "execution_count": null,
   "metadata": {
    "collapsed": true
   },
   "outputs": [],
   "source": [
    "hive> show tables;\n",
    "OK\n",
    "cite\n",
    "employee\n",
    "invites\n",
    "pokes\n",
    "Time taken: 0.048 seconds, Fetched: 4 row(s)"
   ]
  },
  {
   "cell_type": "code",
   "execution_count": null,
   "metadata": {
    "collapsed": true
   },
   "outputs": [],
   "source": [
    "hive> describe cite;\n",
    "OK\n",
    "citing              \tint                 \t                    \n",
    "cited               \tint                 \t                    \n",
    "Time taken: 0.057 seconds, Fetched: 2 row(s)"
   ]
  },
  {
   "cell_type": "markdown",
   "metadata": {},
   "source": [
    "#### Выведем содержимое табл."
   ]
  },
  {
   "cell_type": "code",
   "execution_count": null,
   "metadata": {
    "collapsed": true
   },
   "outputs": [],
   "source": [
    "hive> select * from cite limit 20;\n",
    "OK\n",
    "NULL\tNULL\n",
    "3858241\t956203\n",
    "3858241\t1324234\n",
    "3858241\t3398406\n",
    "3858241\t3557384\n",
    "3858241\t3634889\n",
    "3858242\t1515701\n",
    "3858242\t3319261\n",
    "3858242\t3668705\n",
    "3858242\t3707004\n",
    "3858243\t2949611\n",
    "3858243\t3146465\n",
    "3858243\t3156927\n",
    "3858243\t3221341\n",
    "3858243\t3574238\n",
    "3858243\t3681785\n",
    "3858243\t3684611\n",
    "3858244\t14040\n",
    "3858244\t17445\n",
    "3858244\t2211676\n",
    "Time taken: 0.129 seconds, Fetched: 20 row(s)"
   ]
  },
  {
   "cell_type": "markdown",
   "metadata": {},
   "source": [
    "#### Выведем соличество объектов в таблице"
   ]
  },
  {
   "cell_type": "code",
   "execution_count": null,
   "metadata": {
    "collapsed": true
   },
   "outputs": [],
   "source": [
    "hive> select count(1) from cite;\n",
    "\n",
    "WARNING: Hive-on-MR is deprecated in Hive 2 and may not be available in the future versions. Consider using a different execution engine (i.e. spark, tez) or using Hive 1.X releases.\n",
    "Query ID = real7_20170605184015_008479e0-25f9-49d5-bf4b-d2fc56edfb07\n",
    "Total jobs = 1\n",
    "Launching Job 1 out of 1\n",
    "Number of reduce tasks determined at compile time: 1\n",
    "In order to change the average load for a reducer (in bytes):\n",
    "  set hive.exec.reducers.bytes.per.reducer=<number>\n",
    "In order to limit the maximum number of reducers:\n",
    "  set hive.exec.reducers.max=<number>\n",
    "In order to set a constant number of reducers:\n",
    "  set mapreduce.job.reduces=<number>\n",
    "Job running in-process (local Hadoop)\n",
    "2017-06-05 18:40:17,711 Stage-1 map = 0%,  reduce = 0%\n",
    "2017-06-05 18:40:21,746 Stage-1 map = 100%,  reduce = 100%\n",
    "Ended Job = job_local240828200_0001\n",
    "MapReduce Jobs Launched: \n",
    "Stage-Stage-1:  HDFS Read: 528242214 HDFS Write: 0 SUCCESS\n",
    "Total MapReduce CPU Time Spent: 0 msec\n",
    "OK\n",
    "16522439\n",
    "Time taken: 6.585 seconds, Fetched: 1 row(s)"
   ]
  },
  {
   "cell_type": "markdown",
   "metadata": {},
   "source": [
    "#### Создадим новую таблицу для того чтобы записать в него результаты выполнения запроса. \n",
    "Обычно результат запроса может быть таким же большим файлом как исходный по этому лучше сохранять его в новую таблицу, точнее в новый файл в hdfs."
   ]
  },
  {
   "cell_type": "code",
   "execution_count": null,
   "metadata": {
    "collapsed": true
   },
   "outputs": [],
   "source": [
    "hive> create table cite_count(citi int, count int);\n",
    "OK\n",
    "Time taken: 0.058 seconds"
   ]
  },
  {
   "cell_type": "code",
   "execution_count": null,
   "metadata": {
    "collapsed": true
   },
   "outputs": [],
   "source": [
    "hive> insert overwrite table cite_count\n",
    "    > select cited, count(citing) from cite group by cited;\n",
    "    \n",
    "WARNING: Hive-on-MR is deprecated in Hive 2 and may not be available in the future versions. Consider using a different execution engine (i.e. spark, tez) or using Hive 1.X releases.\n",
    "Query ID = real7_20170605184850_566afb0a-07bd-4122-ac69-fcd6e7055311\n",
    "Total jobs = 1\n",
    "Launching Job 1 out of 1\n",
    "Number of reduce tasks not specified. Estimated from input data size: 2\n",
    "In order to change the average load for a reducer (in bytes):\n",
    "  set hive.exec.reducers.bytes.per.reducer=<number>\n",
    "In order to limit the maximum number of reducers:\n",
    "  set hive.exec.reducers.max=<number>\n",
    "In order to set a constant number of reducers:\n",
    "  set mapreduce.job.reduces=<number>\n",
    "Job running in-process (local Hadoop)\n",
    "2017-06-05 18:48:51,990 Stage-1 map = 0%,  reduce = 0%\n",
    "2017-06-05 18:49:09,064 Stage-1 map = 34%,  reduce = 0%\n",
    "2017-06-05 18:49:33,156 Stage-1 map = 67%,  reduce = 0%\n",
    "2017-06-05 18:49:39,184 Stage-1 map = 81%,  reduce = 0%\n",
    "2017-06-05 18:49:44,209 Stage-1 map = 100%,  reduce = 0%\n",
    "2017-06-05 18:49:50,231 Stage-1 map = 100%,  reduce = 50%\n",
    "2017-06-05 18:49:55,251 Stage-1 map = 100%,  reduce = 100%\n",
    "Ended Job = job_local1848055762_0002\n",
    "Loading data to table default.cite_count\n",
    "MapReduce Jobs Launched: \n",
    "Stage-Stage-1:  HDFS Read: 1584601902 HDFS Write: 49286388 SUCCESS\n",
    "Total MapReduce CPU Time Spent: 0 msec\n",
    "OK\n",
    "Time taken: 65.375 seconds"
   ]
  },
  {
   "cell_type": "code",
   "execution_count": null,
   "metadata": {
    "collapsed": true
   },
   "outputs": [],
   "source": [
    "hive> select * from cite_count where count > 10 limit 10;\n",
    "OK\n",
    "15192\t18\n",
    "28722\t11\n",
    "32066\t11\n",
    "40242\t14\n",
    "55620\t18\n",
    "61780\t19\n",
    "79436\t11\n",
    "86016\t17\n",
    "111128\t12\n",
    "112650\t12\n",
    "Time taken: 0.113 seconds, Fetched: 10 row(s)"
   ]
  },
  {
   "cell_type": "markdown",
   "metadata": {},
   "source": [
    "#### Удалим результирующую таблицу, файлы из hdfs"
   ]
  },
  {
   "cell_type": "code",
   "execution_count": null,
   "metadata": {
    "collapsed": true
   },
   "outputs": [],
   "source": [
    "hive> drop table cite_count;\n",
    "OK\n",
    "Time taken: 1.172 seconds"
   ]
  },
  {
   "cell_type": "markdown",
   "metadata": {},
   "source": [
    "#### Объединение таблиц"
   ]
  },
  {
   "cell_type": "code",
   "execution_count": null,
   "metadata": {
    "collapsed": true
   },
   "outputs": [],
   "source": [
    "create table customers(c_id int, name string, phone string )\n",
    "row format delimited\n",
    "fields terminated by ','\n",
    "lines terminated by '\\n'\n",
    "stored as textfile;"
   ]
  },
  {
   "cell_type": "code",
   "execution_count": null,
   "metadata": {
    "collapsed": true
   },
   "outputs": [],
   "source": [
    "load data inpath '/user/hive/warehouse/employee/customer.csv'\n",
    "OVERWRITE INTO TABLE customers;"
   ]
  },
  {
   "cell_type": "code",
   "execution_count": null,
   "metadata": {
    "collapsed": true
   },
   "outputs": [],
   "source": [
    "create table orders(c_id int, name string, price double, date_t string)\n",
    "row format delimited\n",
    "fields terminated by ','\n",
    "lines terminated by '\\n'\n",
    "stored as textfile;"
   ]
  },
  {
   "cell_type": "code",
   "execution_count": null,
   "metadata": {
    "collapsed": true
   },
   "outputs": [],
   "source": [
    "load data inpath '/user/askar/join/orders.csv'\n",
    "overwrite into table orders;"
   ]
  },
  {
   "cell_type": "markdown",
   "metadata": {},
   "source": [
    "#### join"
   ]
  },
  {
   "cell_type": "code",
   "execution_count": null,
   "metadata": {
    "collapsed": true
   },
   "outputs": [],
   "source": [
    "hive> select c.c_id, c.name, c.phone, o.name, o.price, o.date_t from customers c join orders o on c.c_id = o.c_id;\n",
    "\n",
    "WARNING: Hive-on-MR is deprecated in Hive 2 and may not be available in the future versions. Consider using a different execution engine (i.e. spark, tez) or using Hive 1.X releases.\n",
    "Query ID = real7_20170605191432_c0d2b6cb-93fa-4e97-9fe5-53d9650a5554\n",
    "Total jobs = 1\n",
    "SLF4J: Class path contains multiple SLF4J bindings.\n",
    "SLF4J: Found binding in [jar:file:/usr/local/Cellar/hive/2.1.1/libexec/lib/log4j-slf4j-impl-2.4.1.jar!/org/slf4j/impl/StaticLoggerBinder.class]\n",
    "SLF4J: Found binding in [jar:file:/usr/local/Cellar/hadoop/2.8.0/libexec/share/hadoop/common/lib/slf4j-log4j12-1.7.10.jar!/org/slf4j/impl/StaticLoggerBinder.class]\n",
    "SLF4J: See http://www.slf4j.org/codes.html#multiple_bindings for an explanation.\n",
    "SLF4J: Actual binding is of type [org.apache.logging.slf4j.Log4jLoggerFactory]\n",
    "2017-06-05 19:14:39\tStarting to launch local task to process map join;\tmaximum memory = 477626368\n",
    "2017-06-05 19:14:40\tDump the side-table for tag: 1 with group count: 3 into file: file:/var/folders/fd/jsc_8yyd1n17_x6g_28jwcdw0000gn/T/real7/1b2b1733-9893-4b14-a10b-dd7fc75cc599/hive_2017-06-05_19-14-32_536_2898106803795814289-1/-local-10004/HashTable-Stage-3/MapJoin-mapfile11--.hashtable\n",
    "2017-06-05 19:14:40\tUploaded 1 File to: file:/var/folders/fd/jsc_8yyd1n17_x6g_28jwcdw0000gn/T/real7/1b2b1733-9893-4b14-a10b-dd7fc75cc599/hive_2017-06-05_19-14-32_536_2898106803795814289-1/-local-10004/HashTable-Stage-3/MapJoin-mapfile11--.hashtable (410 bytes)\n",
    "2017-06-05 19:14:40\tEnd of local task; Time Taken: 1.113 sec.\n",
    "Execution completed successfully\n",
    "MapredLocal task succeeded\n",
    "Launching Job 1 out of 1\n",
    "Number of reduce tasks is set to 0 since there's no reduce operator\n",
    "Job running in-process (local Hadoop)\n",
    "2017-06-05 19:14:43,456 Stage-3 map = 100%,  reduce = 0%\n",
    "Ended Job = job_local1419657251_0002\n",
    "MapReduce Jobs Launched: \n",
    "Stage-Stage-3:  HDFS Read: 768 HDFS Write: 0 SUCCESS\n",
    "Total MapReduce CPU Time Spent: 0 msec\n",
    "OK\n",
    "1\tHabib Nurmagamedov\t555-555-555\tB\t88.25\t20-May-2009\n",
    "2\tTony Ferguson\t564-667-789\tC\t32.45\t30-Nov-2008\n",
    "3\tJose Aldo\t456-543-222\tA\t12.95\t02-Jun-2009\n",
    "3\tJose Aldo\t456-543-222\tD\t25.67\t22-Jan-2010\n",
    "Time taken: 10.926 seconds, Fetched: 4 row(s)"
   ]
  },
  {
   "cell_type": "markdown",
   "metadata": {},
   "source": [
    "#### lift join"
   ]
  },
  {
   "cell_type": "code",
   "execution_count": null,
   "metadata": {
    "collapsed": true
   },
   "outputs": [],
   "source": [
    "hive> select c.c_id, c.name, c.phone, o.name, o.price, o.date_t from customers c left join orders o on c.c_id = o.c_id;\n",
    "\n",
    "WARNING: Hive-on-MR is deprecated in Hive 2 and may not be available in the future versions. Consider using a different execution engine (i.e. spark, tez) or using Hive 1.X releases.\n",
    "Query ID = real7_20170605191636_eaa3f4e8-68d4-48da-a8b9-c4f1eaade880\n",
    "Total jobs = 1\n",
    "SLF4J: Class path contains multiple SLF4J bindings.\n",
    "SLF4J: Found binding in [jar:file:/usr/local/Cellar/hive/2.1.1/libexec/lib/log4j-slf4j-impl-2.4.1.jar!/org/slf4j/impl/StaticLoggerBinder.class]\n",
    "SLF4J: Found binding in [jar:file:/usr/local/Cellar/hadoop/2.8.0/libexec/share/hadoop/common/lib/slf4j-log4j12-1.7.10.jar!/org/slf4j/impl/StaticLoggerBinder.class]\n",
    "SLF4J: See http://www.slf4j.org/codes.html#multiple_bindings for an explanation.\n",
    "SLF4J: Actual binding is of type [org.apache.logging.slf4j.Log4jLoggerFactory]\n",
    "2017-06-05 19:16:44\tStarting to launch local task to process map join;\tmaximum memory = 477626368\n",
    "2017-06-05 19:16:44\tDump the side-table for tag: 1 with group count: 3 into file: file:/var/folders/fd/jsc_8yyd1n17_x6g_28jwcdw0000gn/T/real7/1b2b1733-9893-4b14-a10b-dd7fc75cc599/hive_2017-06-05_19-16-36_947_3614742025118388585-1/-local-10004/HashTable-Stage-3/MapJoin-mapfile21--.hashtable\n",
    "2017-06-05 19:16:44\tUploaded 1 File to: file:/var/folders/fd/jsc_8yyd1n17_x6g_28jwcdw0000gn/T/real7/1b2b1733-9893-4b14-a10b-dd7fc75cc599/hive_2017-06-05_19-16-36_947_3614742025118388585-1/-local-10004/HashTable-Stage-3/MapJoin-mapfile21--.hashtable (410 bytes)\n",
    "2017-06-05 19:16:44\tEnd of local task; Time Taken: 0.923 sec.\n",
    "Execution completed successfully\n",
    "MapredLocal task succeeded\n",
    "Launching Job 1 out of 1\n",
    "Number of reduce tasks is set to 0 since there's no reduce operator\n",
    "Job running in-process (local Hadoop)\n",
    "2017-06-05 19:16:47,841 Stage-3 map = 100%,  reduce = 0%\n",
    "Ended Job = job_local1877425038_0003\n",
    "MapReduce Jobs Launched: \n",
    "Stage-Stage-3:  HDFS Read: 884 HDFS Write: 0 SUCCESS\n",
    "Total MapReduce CPU Time Spent: 0 msec\n",
    "OK\n",
    "1\tHabib Nurmagamedov\t555-555-555\tB\t88.25\t20-May-2009\n",
    "2\tTony Ferguson\t564-667-789\tC\t32.45\t30-Nov-2008\n",
    "3\tJose Aldo\t456-543-222\tA\t12.95\t02-Jun-2009\n",
    "3\tJose Aldo\t456-543-222\tD\t25.67\t22-Jan-2010\n",
    "4\tKonor Maccgregor\t777-777-111\tNULL\tNULL\tNULL"
   ]
  },
  {
   "cell_type": "code",
   "execution_count": null,
   "metadata": {
    "collapsed": true
   },
   "outputs": [],
   "source": []
  }
 ],
 "metadata": {
  "kernelspec": {
   "display_name": "Python 3",
   "language": "python",
   "name": "python3"
  },
  "language_info": {
   "codemirror_mode": {
    "name": "ipython",
    "version": 3
   },
   "file_extension": ".py",
   "mimetype": "text/x-python",
   "name": "python",
   "nbconvert_exporter": "python",
   "pygments_lexer": "ipython3",
   "version": "3.5.0"
  }
 },
 "nbformat": 4,
 "nbformat_minor": 2
}
